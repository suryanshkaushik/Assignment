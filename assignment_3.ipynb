{
 "cells": [
  {
   "cell_type": "markdown",
   "id": "4e96153a",
   "metadata": {},
   "source": [
    "# Python Assignment - 3\n",
    "### Carries - 30 marks"
   ]
  },
  {
   "cell_type": "markdown",
   "id": "b5bc6391",
   "metadata": {},
   "source": [
    "## What is File function in python? What is keywords to create and write file. "
   ]
  },
  {
   "cell_type": "code",
   "execution_count": null,
   "id": "ca9fcb29",
   "metadata": {},
   "outputs": [],
   "source": [
    "In Python, the file function itself doesn't exist. However, you can work with files using the built-in open function. The open function is used to create, open, and work with files in Python. It allows you to specify the file mode (read, write, append, etc.) and provides methods for reading and writing data to the file.\n"
   ]
  },
  {
   "cell_type": "code",
   "execution_count": 1,
   "id": "4c3bdd11",
   "metadata": {},
   "outputs": [
    {
     "data": {
      "text/plain": [
       "27"
      ]
     },
     "execution_count": 1,
     "metadata": {},
     "output_type": "execute_result"
    }
   ],
   "source": [
    "\n",
    "file = open('example.txt', 'w')\n",
    "\n",
    "file.write('Hello, world!\\n')\n",
    "file.write('This is a new line of text.')\n",
    "\n",
    "\n"
   ]
  },
  {
   "cell_type": "markdown",
   "id": "77e6fcc1",
   "metadata": {},
   "source": [
    "#### Create and write a  file"
   ]
  },
  {
   "cell_type": "code",
   "execution_count": 11,
   "id": "10cffab9",
   "metadata": {},
   "outputs": [],
   "source": [
    "To create and write to a file in Python, you can follow these steps:\n",
    "\n",
    "Open the file in write mode ('w').\n",
    "Write data to the file using the write() method.\n",
    "Close the file when you're done writing."
   ]
  },
  {
   "cell_type": "code",
   "execution_count": 11,
   "id": "1ec1051a",
   "metadata": {},
   "outputs": [],
   "source": [
    "file = open('example.txt', 'w')\n",
    "file.write(\"Hello, World!\\n\")\n",
    "file.write(\"This is a sample file.\\n\")\n",
    "\n",
    "file.close()"
   ]
  },
  {
   "cell_type": "markdown",
   "id": "ee678cfd",
   "metadata": {},
   "source": [
    "## Write a Python program to read an entire text file. "
   ]
  },
  {
   "cell_type": "code",
   "execution_count": 13,
   "id": "cdf7ae1a",
   "metadata": {},
   "outputs": [],
   "source": [
    "To read an entire text file in Python, you can use the open() function to open the file in read mode ('r') and then use various methods to read its contents. One common way to read the entire file is by using a for loop to iterate through the lines of the file. Here's a Python program to do that:"
   ]
  },
  {
   "cell_type": "code",
   "execution_count": 12,
   "id": "1de0cd02",
   "metadata": {},
   "outputs": [
    {
     "name": "stdout",
     "output_type": "stream",
     "text": [
      "Hello, World!\n",
      "This is a sample file.\n"
     ]
    }
   ],
   "source": [
    "\n",
    "file_path = 'example.txt'  \n",
    "\n",
    "\n",
    "with open(file_path, 'r') as file:\n",
    "    \n",
    "    for line in file:\n",
    "        \n",
    "        print(line, end='') \n"
   ]
  },
  {
   "cell_type": "markdown",
   "id": "dd46afa5",
   "metadata": {},
   "source": [
    "## Write a Python program to append text to a file and display the text."
   ]
  },
  {
   "cell_type": "code",
   "execution_count": null,
   "id": "c80ebe1f",
   "metadata": {},
   "outputs": [],
   "source": [
    "To append text to a file in Python and then display the appended text, you can follow these steps:\n",
    "\n",
    "Use the open() function to open the file in append mode ('a').\n",
    "\n",
    "Use the write() method to append text to the file.\n",
    "\n",
    "Close the file.\n",
    "\n",
    "Open the file again in read mode ('r') to display the entire content, including the newly appended text."
   ]
  },
  {
   "cell_type": "code",
   "execution_count": 13,
   "id": "4e2441d0",
   "metadata": {},
   "outputs": [
    {
     "name": "stdout",
     "output_type": "stream",
     "text": [
      "File Content:\n",
      "Hello, World!\n",
      "This is a sample file.\n",
      "This is new text appended to the file.\n",
      "\n"
     ]
    }
   ],
   "source": [
    "\n",
    "file_path = 'example.txt'  \n",
    "\n",
    "with open(file_path, 'a') as file:\n",
    "    text_to_append = \"This is new text appended to the file.\\n\"\n",
    "    file.write(text_to_append)\n",
    "\n",
    "\n",
    "with open(file_path, 'r') as file:\n",
    "    \n",
    "    file_content = file.read()\n",
    "    print(\"File Content:\")\n",
    "    print(file_content)\n"
   ]
  },
  {
   "cell_type": "markdown",
   "id": "52316493",
   "metadata": {},
   "source": [
    "## Write a Python program to read first n lines of a file. "
   ]
  },
  {
   "cell_type": "code",
   "execution_count": 15,
   "id": "23617604",
   "metadata": {},
   "outputs": [
    {
     "name": "stdout",
     "output_type": "stream",
     "text": [
      "Hello, World!\n",
      "This is a sample file.\n",
      "This is new text appended to the file.\n"
     ]
    }
   ],
   "source": [
    "\n",
    "file_path = 'example.txt'  \n",
    "\n",
    "n = 5 \n",
    "\n",
    "with open(file_path, 'r') as file:\n",
    "    \n",
    "    for i, line in enumerate(file):\n",
    "        if i >= n:\n",
    "            break\n",
    "        print(line, end='')\n"
   ]
  },
  {
   "cell_type": "markdown",
   "id": "45dba4dc",
   "metadata": {},
   "source": [
    "## Write a Python program to read last n lines of a file. "
   ]
  },
  {
   "cell_type": "code",
   "execution_count": 16,
   "id": "d36a72b0",
   "metadata": {},
   "outputs": [
    {
     "name": "stdout",
     "output_type": "stream",
     "text": [
      "Hello, World!\n",
      "This is a sample file.\n",
      "This is new text appended to the file.\n"
     ]
    }
   ],
   "source": [
    "\n",
    "file_path = 'example.txt'  \n",
    "\n",
    "n = 5 \n",
    "\n",
    "with open(file_path, 'r') as file:\n",
    "    \n",
    "    all_lines = file.readlines()\n",
    "\n",
    "last_n_lines = all_lines[-n:]\n",
    "\n",
    "for line in last_n_lines:\n",
    "    print(line, end='')\n",
    "\n"
   ]
  },
  {
   "cell_type": "markdown",
   "id": "76a74d09",
   "metadata": {},
   "source": [
    "## Write a Python program to read a file line by line and store it into a list"
   ]
  },
  {
   "cell_type": "code",
   "execution_count": 17,
   "id": "3ea8e4e4",
   "metadata": {},
   "outputs": [
    {
     "name": "stdout",
     "output_type": "stream",
     "text": [
      "Hello, World!\n",
      "This is a sample file.\n",
      "This is new text appended to the file.\n"
     ]
    }
   ],
   "source": [
    "\n",
    "file_path = 'example.txt'  \n",
    "\n",
    "lines_list = []\n",
    "\n",
    "with open(file_path, 'r') as file:\n",
    "    \n",
    "    for line in file:\n",
    "        \n",
    "        lines_list.append(line.rstrip())\n",
    "\n",
    "for line in lines_list:\n",
    "    print(line)\n"
   ]
  },
  {
   "cell_type": "markdown",
   "id": "589e624c",
   "metadata": {},
   "source": [
    "## Write a Python program to read a file line by line store it into a variable."
   ]
  },
  {
   "cell_type": "code",
   "execution_count": 18,
   "id": "9a6f1553",
   "metadata": {},
   "outputs": [
    {
     "name": "stdout",
     "output_type": "stream",
     "text": [
      "Hello, World!\n",
      "This is a sample file.\n",
      "This is new text appended to the file.\n",
      "\n"
     ]
    }
   ],
   "source": [
    "\n",
    "file_path = 'example.txt'  \n",
    "\n",
    "file_content = ''\n",
    "\n",
    "with open(file_path, 'r') as file:\n",
    "    \n",
    "    for line in file:\n",
    "        \n",
    "        file_content += line\n",
    "\n",
    "print(file_content)\n"
   ]
  },
  {
   "cell_type": "markdown",
   "id": "c5a5e0a9",
   "metadata": {},
   "source": [
    "## Write a Python program to copy the contents of a file to another file. "
   ]
  },
  {
   "cell_type": "code",
   "execution_count": 23,
   "id": "d47a46fb",
   "metadata": {},
   "outputs": [
    {
     "name": "stdout",
     "output_type": "stream",
     "text": [
      "Error: 'source.txt' not found.\n"
     ]
    }
   ],
   "source": [
    "\n",
    "source_file_path = 'source.txt'  \n",
    "destination_file_path = 'destination.txt'  \n",
    "\n",
    "try:\n",
    "    \n",
    "    with open(source_file_path, 'rb') as source_file, open(destination_file_path, 'wb') as destination_file:\n",
    "        \n",
    "        chunk_size = 1024  \n",
    "        while True:\n",
    "            chunk = source_file.read(chunk_size)\n",
    "            if not chunk:\n",
    "                break\n",
    "            destination_file.write(chunk)\n",
    "\n",
    "    print(f\"Contents of '{source_file_path}' copied to '{destination_file_path}' successfully.\")\n",
    "except FileNotFoundError:\n",
    "    print(f\"Error: '{source_file_path}' not found.\")\n",
    "except Exception as e:\n",
    "    print(f\"An error occurred: {str(e)}\")\n",
    "\n"
   ]
  },
  {
   "cell_type": "markdown",
   "id": "056551f3",
   "metadata": {},
   "source": [
    "## Write python program that user to enter only odd numbers, else will raise an exception"
   ]
  },
  {
   "cell_type": "code",
   "execution_count": 24,
   "id": "e2ef3212",
   "metadata": {},
   "outputs": [
    {
     "name": "stdout",
     "output_type": "stream",
     "text": [
      "Enter an odd number (or 'exit' to quit): 7\n",
      "You entered an odd number: 7\n",
      "\n",
      "Program terminated by the user.\n"
     ]
    }
   ],
   "source": [
    "try:\n",
    "    while True:\n",
    "        user_input = input(\"Enter an odd number (or 'exit' to quit): \")\n",
    "        \n",
    "        if user_input.lower() == 'exit':\n",
    "            break\n",
    "        \n",
    "        number = int(user_input)\n",
    "        \n",
    "        if number % 2 == 0:\n",
    "            raise ValueError(\"Even numbers are not allowed.\")\n",
    "        \n",
    "        print(f\"You entered an odd number: {number}\")\n",
    "except ValueError as ve:\n",
    "    print(f\"Error: {ve}\")\n",
    "except KeyboardInterrupt:\n",
    "    print(\"\\nProgram terminated by the user.\")\n"
   ]
  },
  {
   "cell_type": "markdown",
   "id": "165279e1",
   "metadata": {},
   "source": [
    "## Can one block of except statements handle multiple exception? "
   ]
  },
  {
   "cell_type": "code",
   "execution_count": null,
   "id": "9cc304cc",
   "metadata": {},
   "outputs": [],
   "source": [
    "Yes, one block of except statements can handle multiple exceptions in Python. You can specify multiple exception types in a single except block by enclosing them in parentheses or using multiple except blocks for different exception types."
   ]
  },
  {
   "cell_type": "markdown",
   "id": "759b2c5f",
   "metadata": {},
   "source": [
    "## Explain Exception handling? What is an Error in Python?\n"
   ]
  },
  {
   "cell_type": "code",
   "execution_count": null,
   "id": "555171f7",
   "metadata": {},
   "outputs": [],
   "source": [
    "Exception Handling is a programming technique used to gracefully handle unexpected or exceptional situations that can occur during the execution of a program. In Python, exceptions are raised when an error or unusual condition occurs, and they disrupt the normal flow of the program. Exception handling allows you to handle these exceptions and continue executing the program or take appropriate actions, such as logging the error, displaying a user-friendly message, or recovering from the error.\n",
    "\n",
    "Here are the key components of exception handling in Python:\n",
    "\n",
    "try: The try block is used to enclose the code that might raise an exception. When an exception occurs within the try block, the program execution is immediately transferred to the corresponding except block.\n",
    "\n",
    "except: The except block is used to catch and handle exceptions. You can specify the type of exception you want to catch in the except block, and you can have multiple except blocks to handle different types of exceptions. If an exception of the specified type is raised, the code in the corresponding except block is executed.\n",
    "\n",
    "else: The else block is optional and is executed if no exceptions are raised in the try block. It is often used to perform actions that should occur when no errors are encountered\n",
    "    "
   ]
  },
  {
   "cell_type": "markdown",
   "id": "503ae851",
   "metadata": {},
   "source": [
    "## Write a Python program to count the number of lines in a text file. "
   ]
  },
  {
   "cell_type": "code",
   "execution_count": 26,
   "id": "9b708d8d",
   "metadata": {},
   "outputs": [
    {
     "name": "stdout",
     "output_type": "stream",
     "text": [
      "Total number of lines in the file: 3\n"
     ]
    }
   ],
   "source": [
    "\n",
    "file_path = 'example.txt'  \n",
    "\n",
    "line_count = 0\n",
    "\n",
    "with open(file_path, 'r') as file:\n",
    "    \n",
    "    for line in file:\n",
    "        \n",
    "        line_count += 1\n",
    "\n",
    "print(f'Total number of lines in the file: {line_count}')\n"
   ]
  },
  {
   "cell_type": "markdown",
   "id": "7dd706b2",
   "metadata": {},
   "source": [
    "## Write a Python program to write a list to a file. "
   ]
  },
  {
   "cell_type": "code",
   "execution_count": 27,
   "id": "ab86375f",
   "metadata": {},
   "outputs": [
    {
     "name": "stdout",
     "output_type": "stream",
     "text": [
      "List has been written to list.txt\n"
     ]
    }
   ],
   "source": [
    "\n",
    "file_path = 'list.txt'  \n",
    "\n",
    "my_list = ['Item 1', 'Item 2', 'Item 3', 'Item 4']\n",
    "\n",
    "with open(file_path, 'w') as file:\n",
    "    \n",
    "    for item in my_list:\n",
    "        file.write(item + '\\n')\n",
    "\n",
    "print(f'List has been written to {file_path}')\n"
   ]
  },
  {
   "cell_type": "markdown",
   "id": "452eb320",
   "metadata": {},
   "source": [
    "# Explain Inheritance in Python with an example?What is init? Or What Is A Constructor In Python? \n",
    "\n"
   ]
  },
  {
   "cell_type": "code",
   "execution_count": null,
   "id": "a15e5f1b",
   "metadata": {},
   "outputs": [],
   "source": [
    "Inheritance is a fundamental concept in object-oriented programming (OOP) that allows you to create a new class based on an existing class. The new class, called the subclass or derived class, inherits attributes and methods from the existing class, called the base class or parent class. Inheritance promotes code reuse and the creation of a hierarchical structure of classes.\n",
    "\n",
    "In Python, inheritance is implemented using the class keyword, and a subclass is defined by specifying the base class in parentheses after the subclass name. The subclass can then extend or override the attributes and methods of the base class."
   ]
  },
  {
   "cell_type": "markdown",
   "id": "a498a822",
   "metadata": {},
   "source": [
    "# Write a python program to find the longest words."
   ]
  },
  {
   "cell_type": "code",
   "execution_count": 28,
   "id": "efbdc1ae",
   "metadata": {},
   "outputs": [
    {
     "name": "stdout",
     "output_type": "stream",
     "text": [
      "Longest words:\n",
      "sentence\n"
     ]
    }
   ],
   "source": [
    "\n",
    "text = \"This is a sample sentence with some long words, and it should find the longest words.\"\n",
    "\n",
    "words = text.split()\n",
    "\n",
    "longest_words = []\n",
    "max_length = 0\n",
    "\n",
    "for word in words:\n",
    "    word = word.strip(\",.?!\")  \n",
    "    length = len(word)\n",
    "    \n",
    "    if length > max_length:\n",
    "        max_length = length\n",
    "        longest_words = [word]\n",
    "    elif length == max_length:\n",
    "        longest_words.append(word)\n",
    "\n",
    "\n",
    "print(\"Longest words:\")\n",
    "for word in longest_words:\n",
    "    print(word)\n"
   ]
  },
  {
   "cell_type": "markdown",
   "id": "cbbc881b",
   "metadata": {},
   "source": [
    "# How to Define a Class in Python? What Is Self? Give An Example Of A Python Class\n",
    ".\n"
   ]
  },
  {
   "cell_type": "code",
   "execution_count": null,
   "id": "2576eaf5",
   "metadata": {},
   "outputs": [],
   "source": [
    "In Python, you define a class using the class keyword, followed by the class name, and a colon. The class contains attributes (variables) and methods (functions). Here's the basic syntax for defining a class:\n"
   ]
  },
  {
   "cell_type": "code",
   "execution_count": 30,
   "id": "ed3c685a",
   "metadata": {},
   "outputs": [
    {
     "ename": "SyntaxError",
     "evalue": "incomplete input (3357203502.py, line 2)",
     "output_type": "error",
     "traceback": [
      "\u001b[1;36m  Cell \u001b[1;32mIn[30], line 2\u001b[1;36m\u001b[0m\n\u001b[1;33m    \u001b[0m\n\u001b[1;37m    ^\u001b[0m\n\u001b[1;31mSyntaxError\u001b[0m\u001b[1;31m:\u001b[0m incomplete input\n"
     ]
    }
   ],
   "source": [
    "class ClassName:\n",
    "    \n"
   ]
  },
  {
   "cell_type": "code",
   "execution_count": null,
   "id": "d3f041ce",
   "metadata": {},
   "outputs": [],
   "source": [
    "In Python, the self parameter is used to refer to the instance of the class itself. It is the first parameter in every method defined within a class, including the __init__ constructor method.\n",
    "\n",
    "When you create an instance of a class, Python automatically passes the instance as the first argument (self) to any method you call on that instance."
   ]
  },
  {
   "cell_type": "code",
   "execution_count": null,
   "id": "6bc0ce5c",
   "metadata": {},
   "outputs": [],
   "source": []
  },
  {
   "cell_type": "markdown",
   "id": "f856028b",
   "metadata": {},
   "source": [
    "# Write a Python class named Rectangle constructed by a length and width and a method which will compute the area of a rectangle"
   ]
  },
  {
   "cell_type": "code",
   "execution_count": null,
   "id": "509ca5ef",
   "metadata": {},
   "outputs": [],
   "source": [
    "You can define a Python class named Rectangle that takes length and width as constructor parameters and includes a method to compute the area of a rectangle. Here's an example:"
   ]
  },
  {
   "cell_type": "code",
   "execution_count": 31,
   "id": "397b40eb",
   "metadata": {},
   "outputs": [
    {
     "name": "stdout",
     "output_type": "stream",
     "text": [
      "Area of the rectangle: 35\n"
     ]
    }
   ],
   "source": [
    "class Rectangle:\n",
    "    def __init__(self, length, width):\n",
    "        self.length = length\n",
    "        self.width = width\n",
    "\n",
    "    def area(self):\n",
    "        return self.length * self.width\n",
    "\n",
    "rectangle = Rectangle(5, 7)\n",
    "print(\"Area of the rectangle:\", rectangle.area())\n"
   ]
  },
  {
   "cell_type": "markdown",
   "id": "e627277a",
   "metadata": {},
   "source": [
    "## Explain Exception handling? What is an Error in Python? "
   ]
  },
  {
   "cell_type": "code",
   "execution_count": null,
   "id": "f64d868d",
   "metadata": {},
   "outputs": [],
   "source": [
    "Exception handling is a programming concept and a mechanism in Python (and other programming languages) that allows you to gracefully handle unexpected or exceptional situations that can occur during the execution of a program. These exceptional situations, called exceptions, represent errors or unusual conditions that disrupt the normal flow of the program. Exception handling allows you to detect, respond to, and recover from these exceptions."
   ]
  },
  {
   "cell_type": "code",
   "execution_count": null,
   "id": "32101fee",
   "metadata": {},
   "outputs": [],
   "source": [
    "Syntax Errors: These errors occur when the code violates the syntax rules of Python. For example, a missing colon in a for loop or an unclosed parenthesis will result in a syntax error. These errors prevent the code from running and must be fixed before execution.\n",
    "\n",
    "Runtime Errors (Exceptions): These errors occur during program execution when an unexpected condition or event is encountered. Examples include division by zero (ZeroDivisionError), attempting to access an index that doesn't exist in a list (IndexError), or trying to convert an invalid string to an integer (ValueError). Exceptions disrupt the program's normal flow and require handling using try-except blocks."
   ]
  },
  {
   "cell_type": "markdown",
   "id": "bed33f31",
   "metadata": {},
   "source": [
    "## How many except statements can a try-except block have? Name Some built-in exception classes: "
   ]
  },
  {
   "cell_type": "code",
   "execution_count": null,
   "id": "07b1d1b9",
   "metadata": {},
   "outputs": [],
   "source": [
    "A try-except block in Python can have multiple except statements, allowing you to handle different types of exceptions in a single try block. You can catch and handle as many exceptions as needed by including multiple except blocks, one for each type of exception you want to handle."
   ]
  },
  {
   "cell_type": "code",
   "execution_count": null,
   "id": "08ae2cc6",
   "metadata": {},
   "outputs": [],
   "source": [
    "Some commonly used built-in exception classes in Python include:\n",
    "\n",
    "ZeroDivisionError: Raised when division or modulo operation is performed with zero as the divisor.\n",
    "\n",
    "ValueError: Raised when a function receives an argument of the correct data type but with an inappropriate value.\n",
    "\n",
    "TypeError: Raised when an operation or function is applied to an object of inappropriate type.\n",
    "\n",
    "NameError: Raised when a local or global name is not found.\n",
    "\n",
    "IndexError: Raised when an index used in a sequence (such as a list or string) is out of range.\n",
    "\n",
    "FileNotFoundError: Raised when an attempt to open a file for reading or writing fails because the file does not exist.\n",
    "\n",
    "IOError: Raised when an I/O operation (e.g., reading or writing to a file) fails for various reasons.\n",
    "\n",
    "KeyError: Raised when a dictionary is accessed with a key that does not exist in the dictionary.\n",
    "\n",
    "AttributeError: Raised when an attribute reference or assignment fails because the attribute does not exist."
   ]
  },
  {
   "cell_type": "markdown",
   "id": "9d89a755",
   "metadata": {},
   "source": [
    "## Write python program that user to enter only odd numbers, else will raise an exception. "
   ]
  },
  {
   "cell_type": "code",
   "execution_count": 32,
   "id": "fb017904",
   "metadata": {},
   "outputs": [
    {
     "name": "stdout",
     "output_type": "stream",
     "text": [
      "Enter an odd number (or 'exit' to quit): 3\n",
      "You entered an odd number: 3\n",
      "\n",
      "Program terminated by the user.\n"
     ]
    }
   ],
   "source": [
    "try:\n",
    "    while True:\n",
    "        user_input = input(\"Enter an odd number (or 'exit' to quit): \")\n",
    "        \n",
    "        if user_input.lower() == 'exit':\n",
    "            break\n",
    "        \n",
    "        number = int(user_input)\n",
    "        \n",
    "        if number % 2 == 0:\n",
    "            raise ValueError(\"Even numbers are not allowed.\")\n",
    "        \n",
    "        print(f\"You entered an odd number: {number}\")\n",
    "except ValueError as ve:\n",
    "    print(f\"Error: {ve}\")\n",
    "except KeyboardInterrupt:\n",
    "    print(\"\\nProgram terminated by the user.\")\n"
   ]
  },
  {
   "cell_type": "markdown",
   "id": "e8497bda",
   "metadata": {},
   "source": [
    "## Write a Python class named Circle constructed by a radius and two methods which will compute the area and the perimeter of a circle "
   ]
  },
  {
   "cell_type": "code",
   "execution_count": 34,
   "id": "2a6c509d",
   "metadata": {},
   "outputs": [
    {
     "name": "stdout",
     "output_type": "stream",
     "text": [
      "Area of the circle: 78.53981633974483\n",
      "Perimeter of the circle: 31.41592653589793\n"
     ]
    }
   ],
   "source": [
    "import math\n",
    "\n",
    "class Circle:\n",
    "    def __init__(self, radius):\n",
    "        self.radius = radius\n",
    "\n",
    "    def area(self):\n",
    "        return math.pi * self.radius ** 2\n",
    "\n",
    "    def perimeter(self):\n",
    "        return 2 * math.pi * self.radius\n",
    "\n",
    "# Create an instance of the Circle class with a radius of 5\n",
    "circle = Circle(5)\n",
    "\n",
    "# Calculate and print the area and perimeter of the circle\n",
    "print(\"Area of the circle:\", circle.area())\n",
    "print(\"Perimeter of the circle:\", circle.perimeter())\n"
   ]
  },
  {
   "cell_type": "markdown",
   "id": "fc384afd",
   "metadata": {},
   "source": [
    "## Explain Inheritance in Python with an example? What is init? Or What Is A Constructor In Python? "
   ]
  },
  {
   "cell_type": "code",
   "execution_count": null,
   "id": "242666cb",
   "metadata": {},
   "outputs": [],
   "source": [
    "Inheritance is a fundamental concept in object-oriented programming (OOP) that allows you to create a new class based on an existing class. The new class, called the subclass or derived class, inherits attributes and methods from the existing class, called the base class or parent class. Inheritance promotes code reuse and the creation of a hierarchical structure of classes.\n",
    "\n",
    "In Python, inheritance is implemented using the class keyword, and a subclass is defined by specifying the base class in parentheses after the subclass name. The subclass can then extend or override the attributes and methods of the base class."
   ]
  },
  {
   "cell_type": "code",
   "execution_count": 35,
   "id": "4cafbcf8",
   "metadata": {},
   "outputs": [
    {
     "name": "stdout",
     "output_type": "stream",
     "text": [
      "Buddy says Woof!\n",
      "Whiskers says Meow!\n"
     ]
    }
   ],
   "source": [
    "\n",
    "class Animal:\n",
    "    def __init__(self, name):\n",
    "        self.name = name\n",
    "\n",
    "    def speak(self):\n",
    "        pass\n",
    "\n",
    "class Dog(Animal):\n",
    "    def speak(self):\n",
    "        return f\"{self.name} says Woof!\"\n",
    "\n",
    "class Cat(Animal):\n",
    "    def speak(self):\n",
    "        return f\"{self.name} says Meow!\"\n",
    "\n",
    "dog = Dog(\"Buddy\")\n",
    "cat = Cat(\"Whiskers\")\n",
    "\n",
    "print(dog.speak())  \n",
    "print(cat.speak())  \n"
   ]
  },
  {
   "cell_type": "code",
   "execution_count": null,
   "id": "451901f5",
   "metadata": {},
   "outputs": [],
   "source": [
    "In Python, __init__ is a special method known as a constructor. It is automatically called when you create an instance (object) of a class. The purpose of the __init__ method is to initialize the attributes (data members) of an object.\n",
    "\n",
    "Here's how the __init__ method works:\n",
    "\n",
    "Creation of an Object: When you create an instance of a class by calling the class name followed by parentheses (e.g., obj = MyClass()), Python automatically invokes the __init__ method for that newly created object.\n",
    "\n",
    "Initialization of Attributes: You can define the __init__ method within your class definition, and this method takes at least one parameter, conventionally named self, as its first parameter. The self parameter refers to the instance of the class that is being created.\n",
    "\n",
    "Attributes Initialization: Inside the __init__ method, you can initialize the attributes of the object using the parameters passed to the constructor. These attributes represent the state or characteristics of the object."
   ]
  },
  {
   "cell_type": "markdown",
   "id": "ca9350b1",
   "metadata": {},
   "source": [
    "## What is Instantiation in terms of OOP terminology?\n",
    "\n"
   ]
  },
  {
   "cell_type": "code",
   "execution_count": null,
   "id": "5d864c6e",
   "metadata": {},
   "outputs": [],
   "source": [
    "Instantiation is a fundamental concept in object-oriented programming (OOP) terminology. It refers to the process of creating an instance (object) of a class. In OOP, a class serves as a blueprint or template for creating objects, and instantiation is the act of bringing that blueprint to life by creating a specific instance of the class.\n",
    "\n",
    "Here are the key points related to instantiation:\n",
    "\n",
    "Class: In OOP, a class is a user-defined data type that defines a set of attributes (data members) and methods (functions) that are common to a group of objects. It represents a generalized description of objects of a certain type.\n",
    "\n",
    "Instance (Object): An instance, also known as an object, is a concrete realization or specific example of a class. It is created based on the blueprint provided by the class and represents a unique entity with its own set of attribute values.\n",
    "\n",
    "Instantiation: Instantiation is the process of creating an instance of a class. When you instantiate a class, you create a new object that inherits the attributes and methods defined by the class. Each instance of a class is independent and can have its own attribute values."
   ]
  },
  {
   "cell_type": "code",
   "execution_count": 9,
   "id": "f3dbf154",
   "metadata": {},
   "outputs": [],
   "source": []
  },
  {
   "cell_type": "code",
   "execution_count": 9,
   "id": "2aa5da5c",
   "metadata": {},
   "outputs": [],
   "source": []
  },
  {
   "cell_type": "code",
   "execution_count": 9,
   "id": "8efb4193",
   "metadata": {},
   "outputs": [],
   "source": []
  },
  {
   "cell_type": "code",
   "execution_count": 9,
   "id": "83ceb138",
   "metadata": {},
   "outputs": [],
   "source": []
  },
  {
   "cell_type": "code",
   "execution_count": null,
   "id": "59d11a69",
   "metadata": {},
   "outputs": [],
   "source": []
  }
 ],
 "metadata": {
  "kernelspec": {
   "display_name": "Python 3 (ipykernel)",
   "language": "python",
   "name": "python3"
  },
  "language_info": {
   "codemirror_mode": {
    "name": "ipython",
    "version": 3
   },
   "file_extension": ".py",
   "mimetype": "text/x-python",
   "name": "python",
   "nbconvert_exporter": "python",
   "pygments_lexer": "ipython3",
   "version": "3.11.4"
  },
  "vscode": {
   "interpreter": {
    "hash": "2043299c89c8cd0b4d1a6f5cf4529bd58e6a4e0fe3181a25e0d328c821cdc5c5"
   }
  }
 },
 "nbformat": 4,
 "nbformat_minor": 5
}
