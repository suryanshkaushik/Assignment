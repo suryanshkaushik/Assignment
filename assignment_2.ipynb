{
 "cells": [
  {
   "cell_type": "markdown",
   "id": "9ab7acb3",
   "metadata": {},
   "source": [
    "# Python Assignment - 2\n",
    "### Carries - 30 marks"
   ]
  },
  {
   "cell_type": "markdown",
   "id": "d4122e1a",
   "metadata": {},
   "source": [
    "## What is List? How will you reverse a list?"
   ]
  },
  {
   "cell_type": "code",
   "execution_count": null,
   "id": "ef44f9e9",
   "metadata": {},
   "outputs": [],
   "source": [
    "a list is a data structure that stores an ordered collection of items. Each item in a list is identified by an index, which is typically an integer, starting from 0 for the first item. Lists can contain elements of different data types, including numbers, strings, objects, or even other lists\n",
    "Python provides a built-in method called reverse() for lists that reverses the elements in-place (modifies the original list):\n"
   ]
  },
  {
   "cell_type": "code",
   "execution_count": 1,
   "id": "add0bf2a",
   "metadata": {},
   "outputs": [
    {
     "name": "stdout",
     "output_type": "stream",
     "text": [
      "[5, 4, 3, 2, 1]\n"
     ]
    }
   ],
   "source": [
    "my_list = [1, 2, 3, 4, 5]\n",
    "reversed_list = my_list[::-1]\n",
    "print(reversed_list)"
   ]
  },
  {
   "cell_type": "markdown",
   "id": "69255251",
   "metadata": {},
   "source": [
    "# How will you compare two lists?"
   ]
  },
  {
   "cell_type": "code",
   "execution_count": null,
   "id": "ee751ef2",
   "metadata": {},
   "outputs": [],
   "source": [
    "In Python, you can compare two lists for equality using the == operator. This operator checks whether the elements of the two lists are the same and in the same order:"
   ]
  },
  {
   "cell_type": "code",
   "execution_count": 2,
   "id": "7a2b7dbb",
   "metadata": {},
   "outputs": [
    {
     "name": "stdout",
     "output_type": "stream",
     "text": [
      "The lists are equal.\n"
     ]
    }
   ],
   "source": [
    "list1 = [1, 2, 3]\n",
    "list2 = [1, 2, 3]\n",
    "\n",
    "if list1 == list2:\n",
    "    print(\"The lists are equal.\")\n",
    "else:\n",
    "    print(\"The lists are not equal.\")"
   ]
  },
  {
   "cell_type": "markdown",
   "id": "367150d6",
   "metadata": {},
   "source": [
    "###  How will you remove last object from a list? Suppose list1 is [2, 33, 222, 14, and 25], what is list1 [-1]? "
   ]
  },
  {
   "cell_type": "code",
   "execution_count": null,
   "id": "9364a001",
   "metadata": {},
   "outputs": [],
   "source": [
    "To remove the last object (or element) from a list in Python, you can use the pop() method with the index -1. "
   ]
  },
  {
   "cell_type": "code",
   "execution_count": 3,
   "id": "ef70e04a",
   "metadata": {},
   "outputs": [
    {
     "name": "stdout",
     "output_type": "stream",
     "text": [
      "[2, 33, 222, 14]\n"
     ]
    }
   ],
   "source": [
    "list1 = [2, 33, 222, 14, 25]\n",
    "list1.pop(-1)  \n",
    "print(list1) "
   ]
  },
  {
   "cell_type": "code",
   "execution_count": null,
   "id": "22121616",
   "metadata": {},
   "outputs": [],
   "source": [
    "In this example, list1.pop(-1) removes the last element (25 in this case) from the list, and the updated list becomes [2, 33, 222, 14]."
   ]
  },
  {
   "cell_type": "markdown",
   "id": "9ad2912e",
   "metadata": {},
   "source": [
    "### Differentiate between append () and extend () methods? "
   ]
  },
  {
   "cell_type": "code",
   "execution_count": null,
   "id": "9f0d5d58",
   "metadata": {},
   "outputs": [],
   "source": [
    "In Python, both append() and extend() are methods used to add elements to a list, but they behave differently in terms of what they add and how they add it:"
   ]
  },
  {
   "cell_type": "code",
   "execution_count": 4,
   "id": "e8ac1695",
   "metadata": {},
   "outputs": [
    {
     "name": "stdout",
     "output_type": "stream",
     "text": [
      "[1, 2, 3, 4]\n"
     ]
    }
   ],
   "source": [
    "#let us understand with the help of an example\n",
    "# append() method:\n",
    "my_list = [1, 2, 3]\n",
    "my_list.append(4)\n",
    "print(my_list)  \n"
   ]
  },
  {
   "cell_type": "code",
   "execution_count": 5,
   "id": "5b195c74",
   "metadata": {},
   "outputs": [
    {
     "name": "stdout",
     "output_type": "stream",
     "text": [
      "[1, 2, 3, 4, 5, 6]\n"
     ]
    }
   ],
   "source": [
    "#extend() method:\n",
    "my_list = [1, 2, 3]\n",
    "another_list = [4, 5, 6]\n",
    "my_list.extend(another_list)\n",
    "print(my_list)"
   ]
  },
  {
   "cell_type": "markdown",
   "id": "5f8c10ed",
   "metadata": {},
   "source": [
    "### Write a Python program to find the second smallest number in a list."
   ]
  },
  {
   "cell_type": "code",
   "execution_count": 1,
   "id": "79acc6a9",
   "metadata": {},
   "outputs": [
    {
     "ename": "SyntaxError",
     "evalue": "unterminated string literal (detected at line 5) (3912625014.py, line 5)",
     "output_type": "error",
     "traceback": [
      "\u001b[1;36m  Cell \u001b[1;32mIn[1], line 5\u001b[1;36m\u001b[0m\n\u001b[1;33m    return \"please Input valid list with atleast 2 items num.sort()\u001b[0m\n\u001b[1;37m           ^\u001b[0m\n\u001b[1;31mSyntaxError\u001b[0m\u001b[1;31m:\u001b[0m unterminated string literal (detected at line 5)\n"
     ]
    }
   ],
   "source": [
    "\n",
    "def find second smallest (num):\n",
    "\n",
    "if len(num) 2:\n",
    "return \"please Input valid list with atleast 2 items num.sort()\n",
    "\n",
    "return num[1]\n",
    "\n",
    "Inut list Input(\"Please enter your desired list: \") listi inut list.split(\".\n",
    "\n",
    "listi fint(item) for item in lists] result find second smallest list) print(\"your second smallest number 11, result)"
   ]
  },
  {
   "cell_type": "markdown",
   "id": "6ded1b65",
   "metadata": {},
   "source": [
    "### Write a Python program to find the length of a tuple."
   ]
  },
  {
   "cell_type": "code",
   "execution_count": 6,
   "id": "61cfffe0",
   "metadata": {},
   "outputs": [
    {
     "name": "stdout",
     "output_type": "stream",
     "text": [
      "The length of the tuple is: 5\n"
     ]
    }
   ],
   "source": [
    "my_tuple = (1, 2, 3, 4, 5)\n",
    "\n",
    "# Use the len() function to find the length of the tuple\n",
    "tuple_length = len(my_tuple)\n",
    "\n",
    "print(\"The length of the tuple is:\", tuple_length)"
   ]
  },
  {
   "cell_type": "markdown",
   "id": "86d7bc5d",
   "metadata": {},
   "source": [
    "## Write a Python program to reverse a tuple."
   ]
  },
  {
   "cell_type": "code",
   "execution_count": 7,
   "id": "161ca274",
   "metadata": {},
   "outputs": [
    {
     "name": "stdout",
     "output_type": "stream",
     "text": [
      "Original Tuple: (1, 2, 3, 4, 5)\n",
      "Reversed Tuple: (5, 4, 3, 2, 1)\n"
     ]
    }
   ],
   "source": [
    "my_tuple = (1, 2, 3, 4, 5)\n",
    "\n",
    "# Create a new tuple with elements in reverse order\n",
    "reversed_tuple = my_tuple[::-1]\n",
    "\n",
    "print(\"Original Tuple:\", my_tuple)\n",
    "print(\"Reversed Tuple:\", reversed_tuple)"
   ]
  },
  {
   "cell_type": "code",
   "execution_count": null,
   "id": "678ce2c8",
   "metadata": {},
   "outputs": [],
   "source": []
  },
  {
   "cell_type": "markdown",
   "id": "2a982267",
   "metadata": {},
   "source": [
    "### Write a Python program to remove duplicates from a list. "
   ]
  },
  {
   "cell_type": "code",
   "execution_count": 8,
   "id": "94d4beb8",
   "metadata": {},
   "outputs": [
    {
     "name": "stdout",
     "output_type": "stream",
     "text": [
      "List without duplicates: [1, 2, 3, 4, 5]\n"
     ]
    }
   ],
   "source": [
    "my_list = [1, 2, 2, 3, 4, 4, 5]\n",
    "\n",
    "# Remove duplicates by converting the list to a set and back to a list\n",
    "my_list = list(set(my_list))\n",
    "print(\"List without duplicates:\", my_list)"
   ]
  },
  {
   "cell_type": "markdown",
   "id": "2573940b",
   "metadata": {},
   "source": [
    "## Write a Python function that takes a list and returns a new list with unique elements of the first list."
   ]
  },
  {
   "cell_type": "code",
   "execution_count": 9,
   "id": "6c34b94a",
   "metadata": {},
   "outputs": [
    {
     "name": "stdout",
     "output_type": "stream",
     "text": [
      "List with unique elements: [1, 2, 3, 4, 5]\n"
     ]
    }
   ],
   "source": [
    "def unique_elements(input_list):\n",
    "    unique_list = []\n",
    "\n",
    "    for item in input_list:\n",
    "        if item not in unique_list:\n",
    "            unique_list.append(item)\n",
    "\n",
    "    return unique_list\n",
    "\n",
    "my_list = [1, 2, 2, 3, 4, 4, 5]\n",
    "result = unique_elements(my_list)\n",
    "print(\"List with unique elements:\", result)\n",
    "\n",
    "\n",
    "\n",
    "\n",
    "\n",
    "\n"
   ]
  },
  {
   "cell_type": "markdown",
   "id": "569027d9",
   "metadata": {},
   "source": [
    "###  Write a Python program to check a list is empty or not. "
   ]
  },
  {
   "cell_type": "code",
   "execution_count": 10,
   "id": "fd71c169",
   "metadata": {},
   "outputs": [
    {
     "name": "stdout",
     "output_type": "stream",
     "text": [
      "The list is empty.\n"
     ]
    }
   ],
   "source": [
    "my_list = []\n",
    "\n",
    "if not my_list:\n",
    "    print(\"The list is empty.\")\n",
    "else:\n",
    "    print(\"The list is not empty.\")"
   ]
  },
  {
   "cell_type": "markdown",
   "id": "c64d9e48",
   "metadata": {},
   "source": [
    "### Write a Python function to get the largest number, smallest num and sum of all from a list. "
   ]
  },
  {
   "cell_type": "code",
   "execution_count": 11,
   "id": "155dd0e4",
   "metadata": {},
   "outputs": [
    {
     "name": "stdout",
     "output_type": "stream",
     "text": [
      "Largest number: 12\n",
      "Smallest number: 2\n",
      "Sum of all numbers: 44\n"
     ]
    }
   ],
   "source": [
    "def get_largest_smallest_sum(input_list):\n",
    "    if not input_list:\n",
    "        return None, None, 0  \n",
    "\n",
    "    largest = smallest = input_list[0] \n",
    "    total = 0\n",
    "\n",
    "    for num in input_list:\n",
    "        if num > largest:\n",
    "            largest = num\n",
    "        elif num < smallest:\n",
    "            smallest = num\n",
    "        total += num\n",
    "\n",
    "    return largest, smallest, total\n",
    "\n",
    "\n",
    "my_list = [12, 4, 7, 9, 2, 10]\n",
    "largest, smallest, total = get_largest_smallest_sum(my_list)\n",
    "\n",
    "print(\"Largest number:\", largest)\n",
    "print(\"Smallest number:\", smallest)\n",
    "print(\"Sum of all numbers:\", total)\n"
   ]
  },
  {
   "cell_type": "markdown",
   "id": "80f8354d",
   "metadata": {},
   "source": [
    "### Write a Python program to get unique values from a list "
   ]
  },
  {
   "cell_type": "code",
   "execution_count": 12,
   "id": "c7ab6392",
   "metadata": {},
   "outputs": [
    {
     "name": "stdout",
     "output_type": "stream",
     "text": [
      "List with unique values: [1, 2, 3, 4, 5]\n"
     ]
    }
   ],
   "source": [
    "my_list = [1, 2, 2, 3, 4, 4, 5]\n",
    "\n",
    "unique_set = set(my_list)\n",
    "\n",
    "unique_list = list(unique_set)\n",
    "\n",
    "print(\"List with unique values:\", unique_list)"
   ]
  },
  {
   "cell_type": "markdown",
   "id": "a62c3d8c",
   "metadata": {},
   "source": [
    "### Write a Python program to split a list into different variables."
   ]
  },
  {
   "cell_type": "code",
   "execution_count": 13,
   "id": "25bb05a2",
   "metadata": {},
   "outputs": [
    {
     "name": "stdout",
     "output_type": "stream",
     "text": [
      "var1: 1\n",
      "var2: 2\n",
      "var3: 3\n"
     ]
    }
   ],
   "source": [
    "my_list = [1, 2, 3]\n",
    "\n",
    "var1, var2, var3 = my_list\n",
    "\n",
    "print(\"var1:\", var1)\n",
    "print(\"var2:\", var2)\n",
    "print(\"var3:\", var3)\n",
    "\n",
    "\n",
    "\n",
    "\n",
    "\n",
    "\n"
   ]
  },
  {
   "cell_type": "markdown",
   "id": "f85589f9",
   "metadata": {},
   "source": [
    "### Write a Python program to check whether an element exists within a tuple"
   ]
  },
  {
   "cell_type": "code",
   "execution_count": 14,
   "id": "84d3d847",
   "metadata": {},
   "outputs": [
    {
     "name": "stdout",
     "output_type": "stream",
     "text": [
      "3 exists in the tuple.\n"
     ]
    }
   ],
   "source": [
    "my_tuple = (1, 2, 3, 4, 5)\n",
    "\n",
    "element_to_check = 3\n",
    "\n",
    "if element_to_check in my_tuple:\n",
    "    print(f\"{element_to_check} exists in the tuple.\")\n",
    "else:\n",
    "    print(f\"{element_to_check} does not exist in the tuple.\")"
   ]
  },
  {
   "cell_type": "markdown",
   "id": "f9fdf431",
   "metadata": {},
   "source": [
    "### Write a Python program to convert a list to a tuple. "
   ]
  },
  {
   "cell_type": "code",
   "execution_count": 15,
   "id": "55b39659",
   "metadata": {},
   "outputs": [
    {
     "name": "stdout",
     "output_type": "stream",
     "text": [
      "Using 'tuple()' constructor: (1, 2, 3, 4, 5)\n",
      "Using tuple constructor without arguments: (1, 2, 3, 4, 5)\n"
     ]
    }
   ],
   "source": [
    "\n",
    "my_list = [1, 2, 3, 4, 5]\n",
    "\n",
    "my_tuple_1 = tuple(my_list)\n",
    "\n",
    "my_tuple_2 = tuple(my_list)\n",
    "\n",
    "print(\"Using 'tuple()' constructor:\", my_tuple_1)\n",
    "print(\"Using tuple constructor without arguments:\", my_tuple_2)\n"
   ]
  },
  {
   "cell_type": "markdown",
   "id": "9b882e05",
   "metadata": {},
   "source": [
    "### Write a Python program to find the repeated items of a tuple."
   ]
  },
  {
   "cell_type": "code",
   "execution_count": 16,
   "id": "9b81129e",
   "metadata": {},
   "outputs": [
    {
     "name": "stdout",
     "output_type": "stream",
     "text": [
      "Repeated items in the tuple: [2, 4]\n"
     ]
    }
   ],
   "source": [
    "def find_repeated_items(my_tuple):\n",
    "    repeated_items = [item for item in my_tuple if my_tuple.count(item) > 1]\n",
    "    return list(set(repeated_items))\n",
    "\n",
    "\n",
    "my_tuple = (1, 2, 2, 3, 4, 4, 5)\n",
    "repeated_items = find_repeated_items(my_tuple)\n",
    "\n",
    "if repeated_items:\n",
    "    print(\"Repeated items in the tuple:\", repeated_items)\n",
    "else:\n",
    "    print(\"No repeated items found in the tuple.\")\n"
   ]
  },
  {
   "cell_type": "markdown",
   "id": "a4b253d1",
   "metadata": {},
   "source": [
    "###  Write a Python program to remove an empty tuple(s) from a list of tuples"
   ]
  },
  {
   "cell_type": "code",
   "execution_count": 17,
   "id": "5b573974",
   "metadata": {},
   "outputs": [
    {
     "name": "stdout",
     "output_type": "stream",
     "text": [
      "List without empty tuples: [(1, 2), (3, 4), (5, 6)]\n"
     ]
    }
   ],
   "source": [
    "\n",
    "list_of_tuples = [(1, 2), (), (3, 4), (), (5, 6), ()]\n",
    "\n",
    "filtered_list = []\n",
    "\n",
    "for tup in list_of_tuples:\n",
    "    if tup:\n",
    "        filtered_list.append(tup)\n",
    "\n",
    "print(\"List without empty tuples:\", filtered_list)\n"
   ]
  },
  {
   "cell_type": "markdown",
   "id": "e4b2114c",
   "metadata": {},
   "source": [
    "### Write a Python program to unzip a list of tuples into individual lists. "
   ]
  },
  {
   "cell_type": "code",
   "execution_count": 20,
   "id": "1b624da0",
   "metadata": {},
   "outputs": [
    {
     "name": "stdout",
     "output_type": "stream",
     "text": [
      "Numbers: (1, 2, 3)\n",
      "Words: ('one', 'two', 'three')\n"
     ]
    }
   ],
   "source": [
    "list_of_tuples = [(1, 'one'), (2, 'two'), (3, 'three')]\n",
    "\n",
    "numbers, words = zip(*list_of_tuples)\n",
    "\n",
    "print(\"Numbers:\", numbers)\n",
    "print(\"Words:\", words)"
   ]
  },
  {
   "cell_type": "markdown",
   "id": "f6c16416",
   "metadata": {},
   "source": [
    "### Write a Python function to check whether a number is in a given range"
   ]
  },
  {
   "cell_type": "code",
   "execution_count": 22,
   "id": "5c2e1e91",
   "metadata": {},
   "outputs": [
    {
     "name": "stdout",
     "output_type": "stream",
     "text": [
      "12 is NOT in the range [5, 10).\n"
     ]
    }
   ],
   "source": [
    "def is_in_range(number, start, end):\n",
    "    \n",
    "    return number in range(start, end)\n",
    "\n",
    "\n",
    "number_to_check = 12\n",
    "start_range = 5\n",
    "end_range = 10\n",
    "\n",
    "if is_in_range(number_to_check, start_range, end_range):\n",
    "    print(f\"{number_to_check} is in the range [{start_range}, {end_range}).\")\n",
    "else:\n",
    "    print(f\"{number_to_check} is NOT in the range [{start_range}, {end_range}).\")\n"
   ]
  },
  {
   "cell_type": "markdown",
   "id": "ca38d306",
   "metadata": {},
   "source": [
    "### Write a Python function that checks whether a passed string is palindrome or not "
   ]
  },
  {
   "cell_type": "code",
   "execution_count": 23,
   "id": "e20061fb",
   "metadata": {},
   "outputs": [
    {
     "name": "stdout",
     "output_type": "stream",
     "text": [
      "'A man a plan a canal Panama' is a palindrome.\n"
     ]
    }
   ],
   "source": [
    "def is_palindrome(input_string):\n",
    "    # Remove spaces and convert the string to lowercase\n",
    "    cleaned_string = input_string.replace(\" \", \"\").lower()\n",
    "    \n",
    "    # Check if the cleaned string is equal to its reverse\n",
    "    return cleaned_string == cleaned_string[::-1]\n",
    "\n",
    "test_string = \"A man a plan a canal Panama\"\n",
    "result = is_palindrome(test_string)\n",
    "\n",
    "if result:\n",
    "    print(f\"'{test_string}' is a palindrome.\")\n",
    "else:\n",
    "    print(f\"'{test_string}' is not a palindrome.\")"
   ]
  },
  {
   "cell_type": "markdown",
   "id": "19e7c4e5",
   "metadata": {},
   "source": [
    "### Write a Python program to returns sum of all divisors of a number "
   ]
  },
  {
   "cell_type": "code",
   "execution_count": 24,
   "id": "5fd0d815",
   "metadata": {},
   "outputs": [
    {
     "name": "stdout",
     "output_type": "stream",
     "text": [
      "The sum of divisors of 12 is 28\n"
     ]
    }
   ],
   "source": [
    "def sum_of_divisors(number):\n",
    "    divisor_sum = 0\n",
    "\n",
    "    for i in range(1, number + 1):\n",
    "        if number % i == 0:  \n",
    "            divisor_sum += i \n",
    "\n",
    "    return divisor_sum\n",
    "num = 12\n",
    "result = sum_of_divisors(num)\n",
    "print(f\"The sum of divisors of {num} is {result}\")"
   ]
  },
  {
   "cell_type": "markdown",
   "id": "e64676e6",
   "metadata": {},
   "source": [
    "### Write a Python program to find the maximum and minimum numbers from the specified decimal numbers. "
   ]
  },
  {
   "cell_type": "code",
   "execution_count": 25,
   "id": "119282e9",
   "metadata": {},
   "outputs": [
    {
     "name": "stdout",
     "output_type": "stream",
     "text": [
      "Maximum number: 4.66\n",
      "Minimum number: 0.577\n"
     ]
    }
   ],
   "source": [
    "\n",
    "decimal_numbers = [3.14, 2.718, 1.618, 0.577, 4.66]\n",
    "maximum = max(decimal_numbers)\n",
    "minimum = min(decimal_numbers)\n",
    "\n",
    "print(\"Maximum number:\", maximum)\n",
    "print(\"Minimum number:\", minimum)\n"
   ]
  },
  {
   "cell_type": "markdown",
   "id": "afc120de",
   "metadata": {},
   "source": [
    "### Write a Python program to calculate the area of a parallelogram "
   ]
  },
  {
   "cell_type": "code",
   "execution_count": 27,
   "id": "0d4e61b6",
   "metadata": {},
   "outputs": [
    {
     "name": "stdout",
     "output_type": "stream",
     "text": [
      "Enter the base of the parallelogram: 51\n",
      "Enter the height of the parallelogram: 32\n",
      "The area of the parallelogram is: 1632.0\n"
     ]
    }
   ],
   "source": [
    "\n",
    "base = float(input(\"Enter the base of the parallelogram: \"))\n",
    "height = float(input(\"Enter the height of the parallelogram: \"))\n",
    "\n",
    "\n",
    "area = base * height\n",
    "\n",
    "\n",
    "print(\"The area of the parallelogram is:\", area)\n",
    "\n"
   ]
  },
  {
   "cell_type": "markdown",
   "id": "23ab496f",
   "metadata": {},
   "source": [
    "### Write a Python function to check whether a number is perfect or not. "
   ]
  },
  {
   "cell_type": "code",
   "execution_count": 28,
   "id": "2d7e8da7",
   "metadata": {},
   "outputs": [
    {
     "name": "stdout",
     "output_type": "stream",
     "text": [
      "28 is a perfect number.\n"
     ]
    }
   ],
   "source": [
    "def is_perfect_number(number):\n",
    "    if number <= 0:\n",
    "        return False \n",
    "\n",
    "    \n",
    "    divisors_sum = sum([divisor for divisor in range(1, number) if number % divisor == 0])\n",
    "\n",
    "    return divisors_sum == number\n",
    "\n",
    "\n",
    "num = 28  \n",
    "result = is_perfect_number(num)\n",
    "\n",
    "if result:\n",
    "    print(f\"{num} is a perfect number.\")\n",
    "else:\n",
    "    print(f\"{num} is not a perfect number.\")\n",
    "\n",
    "\n",
    "\n",
    "\n",
    "\n",
    "\n",
    "\n"
   ]
  },
  {
   "cell_type": "markdown",
   "id": "5e41e219",
   "metadata": {},
   "source": [
    "### Write a Python program to convert degree to radian"
   ]
  },
  {
   "cell_type": "code",
   "execution_count": 32,
   "id": "87fb8406",
   "metadata": {},
   "outputs": [
    {
     "name": "stdout",
     "output_type": "stream",
     "text": [
      "Enter the angle in degrees: 23\n",
      "23.0 degrees is equal to 0.40 radians\n"
     ]
    }
   ],
   "source": [
    "import math\n",
    "\n",
    "degrees = float(input(\"Enter the angle in degrees: \"))\n",
    "\n",
    "radians = degrees * (math.pi / 180)\n",
    "\n",
    "print(f\"{degrees} degrees is equal to {radians:.2f} radians\")\n"
   ]
  },
  {
   "cell_type": "markdown",
   "id": "368bba70",
   "metadata": {},
   "source": [
    "###  Write a Python program to calculate the area of a trapezoid "
   ]
  },
  {
   "cell_type": "code",
   "execution_count": 33,
   "id": "34ef44e0",
   "metadata": {},
   "outputs": [
    {
     "name": "stdout",
     "output_type": "stream",
     "text": [
      "Enter the length of the longer base: 22\n",
      "Enter the length of the shorter base: 11\n",
      "Enter the height of the trapezoid: 5\n",
      "The area of the trapezoid is: 82.5\n"
     ]
    }
   ],
   "source": [
    "\n",
    "\n",
    "\n",
    "base1 = float(input(\"Enter the length of the longer base: \"))\n",
    "base2 = float(input(\"Enter the length of the shorter base: \"))\n",
    "height = float(input(\"Enter the height of the trapezoid: \"))\n",
    "\n",
    "area = 0.5 * (base1 + base2) * height\n",
    "\n",
    "print(\"The area of the trapezoid is:\", area)\n"
   ]
  },
  {
   "cell_type": "markdown",
   "id": "8bf811b7",
   "metadata": {},
   "source": [
    "## Write a Python program to calculate surface volume and area of a cylinder "
   ]
  },
  {
   "cell_type": "code",
   "execution_count": 34,
   "id": "f5fc9dfb",
   "metadata": {},
   "outputs": [
    {
     "name": "stdout",
     "output_type": "stream",
     "text": [
      "Enter the radius of the cylinder: 44\n",
      "Enter the height of the cylinder: 33\n",
      "Surface Area of the Cylinder: 21287.43 square units\n",
      "Volume of the Cylinder: 200710.07 cubic units\n",
      "Lateral Surface Area of the Cylinder: 9123.19 square units\n"
     ]
    }
   ],
   "source": [
    "import math\n",
    "\n",
    "# Input the radius and height of the cylinder\n",
    "radius = float(input(\"Enter the radius of the cylinder: \"))\n",
    "height = float(input(\"Enter the height of the cylinder: \"))\n",
    "\n",
    "# Calculate the surface area\n",
    "surface_area = 2 * math.pi * radius**2 + 2 * math.pi * radius * height\n",
    "\n",
    "# Calculate the volume\n",
    "volume = math.pi * radius**2 * height\n",
    "\n",
    "# Calculate the lateral surface area\n",
    "lateral_surface_area = 2 * math.pi * radius * height\n",
    "\n",
    "# Print the results\n",
    "print(f\"Surface Area of the Cylinder: {surface_area:.2f} square units\")\n",
    "print(f\"Volume of the Cylinder: {volume:.2f} cubic units\")\n",
    "print(f\"Lateral Surface Area of the Cylinder: {lateral_surface_area:.2f} square units\")\n"
   ]
  },
  {
   "cell_type": "code",
   "execution_count": null,
   "id": "28cae912",
   "metadata": {},
   "outputs": [],
   "source": []
  }
 ],
 "metadata": {
  "kernelspec": {
   "display_name": "Python 3 (ipykernel)",
   "language": "python",
   "name": "python3"
  },
  "language_info": {
   "codemirror_mode": {
    "name": "ipython",
    "version": 3
   },
   "file_extension": ".py",
   "mimetype": "text/x-python",
   "name": "python",
   "nbconvert_exporter": "python",
   "pygments_lexer": "ipython3",
   "version": "3.11.4"
  },
  "vscode": {
   "interpreter": {
    "hash": "5ae58900cfbb8c43ab3495913814b7cf26024f51651a94ce8bf64d6111688e8d"
   }
  }
 },
 "nbformat": 4,
 "nbformat_minor": 5
}
