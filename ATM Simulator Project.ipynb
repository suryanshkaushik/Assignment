{
 "cells": [
  {
   "cell_type": "code",
   "execution_count": 1,
   "id": "cb603698",
   "metadata": {},
   "outputs": [],
   "source": [
    "def main():\n",
    "    name = input(\"Enter your Name \")       #Taking Name\n",
    "    print(\"Hello \",name,\" Welcome to ATM\")\n",
    "    x=1                                    #Controller variable\n",
    "    bal=10000                              \n",
    "    pin= int(input(\"Enter your PIN \"))\n",
    "    if pin== 6829:                         #Checking Pin\n",
    "        while(x>0):                        #Controller Loop\n",
    "            case=int(input(' 1. Check Bal  2. Withdraw  3. Deposit  4. Exit')) # Taking case Input\n",
    "            if case==1:                               #Check Balance\n",
    "                print('Your Balance is ',bal )\n",
    "            elif case==2:                             \n",
    "                w= int(input('Amount to Withdraw '))  #Withdraw Money if available\n",
    "                if bal<w:\n",
    "                    print('Not Enough Balance')\n",
    "                else:\n",
    "                    bal=bal-w\n",
    "                    print('Money Withdarwn ')\n",
    "                    print(bal,' Updated Balance')\n",
    "            elif case==3:                             #Deposit Money if desposit Money is >0\n",
    "                d=int(input('Amount to Deposit '))\n",
    "                if d<0:\n",
    "                    print(\"Invail Amount\")\n",
    "                else:\n",
    "                    bal=bal+d\n",
    "                    print(bal,' Updated Balance')\n",
    "            elif case==4:                             #Show final Balance and Exit the loop\n",
    "                x=0\n",
    "                print('Exit')\n",
    "            else:\n",
    "                print('Wrong Input')\n",
    "    else:\n",
    "        print('Wrong Pin')                            #If pin is wrong"
   ]
  },
  {
   "cell_type": "code",
   "execution_count": 2,
   "id": "cde7e665",
   "metadata": {},
   "outputs": [
    {
     "name": "stdout",
     "output_type": "stream",
     "text": [
      "Enter your Name Suryansh\n",
      "Hello  Suryansh  Welcome to ATM\n",
      "Enter your PIN 6829\n",
      " 1. Check Bal  2. Withdraw  3. Deposit  4. Exit2\n",
      "Amount to Withdraw 500\n",
      "Money Withdarwn \n",
      "9500  Updated Balance\n",
      " 1. Check Bal  2. Withdraw  3. Deposit  4. Exit3\n",
      "Amount to Deposit 500\n",
      "10000  Updated Balance\n",
      " 1. Check Bal  2. Withdraw  3. Deposit  4. Exit1\n",
      "Your Balance is  10000\n",
      " 1. Check Bal  2. Withdraw  3. Deposit  4. Exit4\n",
      "Exit\n"
     ]
    }
   ],
   "source": [
    "main()\n"
   ]
  },
  {
   "cell_type": "markdown",
   "id": "9f7f5503",
   "metadata": {},
   "source": [
    "# DOCUMENTATION FOR ATM SIMULATOR PROJECT:\n",
    "\n",
    "The provided code is a Python program that simulates an ATM (Automated Teller Machine) interaction with the user. The code allows the user to check their account balance, withdraw money, deposit money, and exit the ATM interaction. Below is a detailed documentation of the code:\n",
    "\n",
    "1. *Input Gathering*:\n",
    "   - The program starts by prompting the user to input their name using the `input()` function. The name is stored in the variable `name`.\n",
    "   - A greeting message is printed, welcoming the user to the ATM.\n",
    "\n",
    "2. *Initialization*:\n",
    "   - `x` is set to 1, serving as a control variable for the main loop.\n",
    "   - `bal` is initialized to 10,000, representing the user's account balance.\n",
    "   - The user is prompted to input their PIN (Personal Identification Number), which is stored in the `pin` variable.\n",
    "\n",
    "3. *PIN Validation*:\n",
    "   - The code checks if the entered PIN is equal to 6829. If the PIN is correct, the user proceeds with ATM transactions. If the PIN is incorrect, an error message is displayed.\n",
    "\n",
    "4. *Main Transaction Loop*:\n",
    "   - If the PIN is correct, the code enters a while loop with `x` as the control variable.\n",
    "   - The user is presented with a menu of options, and the selected option is stored in the `case` variable.\n",
    "   - The user can choose from the following options:\n",
    "     - `1`: Check Account Balance\n",
    "     - `2`: Withdraw Money\n",
    "     - `3`: Deposit Money\n",
    "     - `4`: Exit\n",
    "\n",
    "5. *Transaction Handling*:\n",
    "   - Depending on the user's choice, the code performs the following actions:\n",
    "     - Case `1`: It displays the account balance.\n",
    "     - Case `2`: It allows the user to withdraw money if there are sufficient funds in the account. The code updates the balance after a successful withdrawal and displays the updated balance.\n",
    "     - Case `3`: It allows the user to deposit money if the deposit amount is valid (not negative). The code updates the balance after a successful deposit and displays the updated balance.\n",
    "     - Case `4`: It sets `x` to 0, which terminates the main loop and the ATM interaction.\n",
    "     - For any other input, the code displays a \"Wrong Input\" message to the user.\n",
    "\n",
    "6. *Exiting the ATM Interaction*:\n",
    "   - If the user selects option `4` to exit, the code prints \"Exit\" and the loop is terminated.\n",
    "\n",
    "7. *Invalid PIN Handling*:\n",
    "   - If the PIN entered by the user is incorrect, the code displays a \"Wrong Pin\" message.\n",
    "\n"
   ]
  },
  {
   "cell_type": "markdown",
   "id": "e7b9ef48",
   "metadata": {},
   "source": []
  }
 ],
 "metadata": {
  "kernelspec": {
   "display_name": "Python 3 (ipykernel)",
   "language": "python",
   "name": "python3"
  },
  "language_info": {
   "codemirror_mode": {
    "name": "ipython",
    "version": 3
   },
   "file_extension": ".py",
   "mimetype": "text/x-python",
   "name": "python",
   "nbconvert_exporter": "python",
   "pygments_lexer": "ipython3",
   "version": "3.11.4"
  }
 },
 "nbformat": 4,
 "nbformat_minor": 5
}
