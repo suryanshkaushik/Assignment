{
 "cells": [
  {
   "cell_type": "code",
   "execution_count": 1,
   "id": "07522ee0",
   "metadata": {},
   "outputs": [],
   "source": [
    "def main():\n",
    "    name = input(\"Enter your Name \")  #taking Name\n",
    "    print(\"Hello \", name)\n",
    "    age =int(input(\"Please tell your age \"))   #taking age\n",
    "    l=int((age/4)-(age/100)+(age/400))         #taking number of leap years\n",
    "    age=age-l                    \n",
    "    month=(age+l)*12                           #Calulating no. months  \n",
    "    week=int((age*52.14)+(l*52.28))            #Calulating no. weeks\n",
    "    day=(age*365)+(l*366)                      #Calulating no. days\n",
    "    hour=day*24                                #Calulating no. hours\n",
    "    minn=hour*60                               #Calulating no. minutes\n",
    "    sec=minn*60                                #Calulating no. seconds\n",
    "    print(\"Months You Have Survived = \",month)\n",
    "    print(\"Weeks You Have Survived = \",week)\n",
    "    print(\"Days You Have Survived = \",day)\n",
    "    print(\"Hours You Have Survived = \",hour)\n",
    "    print(\"Minutes You Have Survived = \",minn)\n",
    "    print(\"Seconds You Have Survived = \",sec)"
   ]
  },
  {
   "cell_type": "code",
   "execution_count": 2,
   "id": "06bc6525",
   "metadata": {},
   "outputs": [
    {
     "name": "stdout",
     "output_type": "stream",
     "text": [
      "Enter your Name Suryansh\n",
      "Hello  Suryansh\n",
      "Please tell your age 21\n",
      "Months You Have Survived =  252\n",
      "Weeks You Have Survived =  1095\n",
      "Days You Have Survived =  7670\n",
      "Hours You Have Survived =  184080\n",
      "Minutes You Have Survived =  11044800\n",
      "Seconds You Have Survived =  662688000\n"
     ]
    }
   ],
   "source": [
    "main()"
   ]
  },
  {
   "cell_type": "markdown",
   "id": "b216d3ab",
   "metadata": {},
   "source": [
    "# Documentation of SURVIVAL DURATION CALCULATOR PROJECT:\n",
    " \n",
    " The provided code is a Python program designed to take a person's name and age as input and then calculate and display the duration of their life in various time units, including months, weeks, days, hours, minutes, and seconds. Below is a detailed documentation of the code:\n",
    "\n",
    "1. *Input Gathering*:\n",
    "   - The program begins by prompting the user to input their name using the `input()` function. The name is stored in the variable `name`.\n",
    "\n",
    "2. *User Greeting*:\n",
    "   - After obtaining the user's name, the program greets the user by printing \"Hello\" followed by their name.\n",
    "\n",
    "3. *Age Input*:\n",
    "   - The user is then prompted to input their age as an integer using `input()`, which is converted to an integer and stored in the variable `age`.\n",
    "\n",
    "4. *Leap Year Calculation*:\n",
    "   - The code calculates the number of leap years the person has lived through. This calculation is based on the number of years divisible by 4 (potential leap years), subtracting those divisible by 100 (except when divisible by 400).\n",
    "\n",
    "5. *Age Adjustment*:\n",
    "   - The calculated number of leap years (stored in `l`) is then subtracted from the original age to adjust it for leap years. This adjusted age is stored back in the variable `age`.\n",
    "\n",
    "6. *Time Unit Calculations*:\n",
    "   - The code performs several calculations to convert the adjusted age into different time units:\n",
    "     - `month`: The number of months the person has lived is calculated by multiplying the adjusted age by 12.\n",
    "     - `week`: The number of weeks is calculated based on the adjusted age and leap years, approximating a year as 52.14 weeks and a leap year as 52.28 weeks.\n",
    "     - `day`: The number of days is calculated based on the adjusted age and leap years, considering a year as 365 days and a leap year as 366 days.\n",
    "     - `hour`: The number of hours is calculated by multiplying the number of days by 24.\n",
    "     - `minn` (likely a typo, should be `min`): The number of minutes is calculated by multiplying the number of hours by 60.\n",
    "     - `sec`: The number of seconds is calculated by multiplying the number of minutes by 60.\n",
    "\n",
    "7. *Display Results*:\n",
    "   - The code prints out the calculated results for each time unit, indicating how long the person has survived or lived.\n",
    "\n",
    "8. *Main Function Execution*:\n",
    "   - The code defines the `main()` function, but it is not explicitly called. It can be executed by adding the following code at the end:\n",
    "     python\n",
    "     if __name__ == \"__main__\":\n",
    "         main()"
   ]
  }
 ],
 "metadata": {
  "kernelspec": {
   "display_name": "Python 3 (ipykernel)",
   "language": "python",
   "name": "python3"
  },
  "language_info": {
   "codemirror_mode": {
    "name": "ipython",
    "version": 3
   },
   "file_extension": ".py",
   "mimetype": "text/x-python",
   "name": "python",
   "nbconvert_exporter": "python",
   "pygments_lexer": "ipython3",
   "version": "3.11.4"
  }
 },
 "nbformat": 4,
 "nbformat_minor": 5
}
