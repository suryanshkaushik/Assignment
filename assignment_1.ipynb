{
 "cells": [
  {
   "cell_type": "markdown",
   "id": "fb933f7e",
   "metadata": {},
   "source": [
    "# Python Assignment - 1\n",
    "#### Carries 30 marks"
   ]
  },
  {
   "cell_type": "markdown",
   "id": "b4896514",
   "metadata": {},
   "source": [
    "### Write a Python program to sum of three given integers. However, if two values are equal sum will be zero."
   ]
  },
  {
   "cell_type": "code",
   "execution_count": 17,
   "id": "230cee62",
   "metadata": {},
   "outputs": [
    {
     "name": "stdout",
     "output_type": "stream",
     "text": [
      "Enter the first integer: 2\n",
      "Enter the second integer: 3\n",
      "Enter the third integer: 5\n",
      "The sum is: 10\n"
     ]
    }
   ],
   "source": [
    "\n",
    "def sum_unique_numbers(a, b, c):\n",
    "    if a == b or b == c or a == c:\n",
    "        return 0\n",
    "    else:\n",
    "        return a + b + c\n",
    "\n",
    "# Input three integers\n",
    "num1 = int(input(\"Enter the first integer: \"))\n",
    "num2 = int(input(\"Enter the second integer: \"))\n",
    "num3 = int(input(\"Enter the third integer: \"))\n",
    "\n",
    "result = sum_unique_numbers(num1, num2, num3)\n",
    "print(\"The sum is:\", result)"
   ]
  },
  {
   "cell_type": "code",
   "execution_count": 11,
   "id": "a169bad6",
   "metadata": {},
   "outputs": [
    {
     "ename": "NameError",
     "evalue": "name 'num1' is not defined",
     "output_type": "error",
     "traceback": [
      "\u001b[1;31m---------------------------------------------------------------------------\u001b[0m",
      "\u001b[1;31mNameError\u001b[0m                                 Traceback (most recent call last)",
      "Cell \u001b[1;32mIn[11], line 1\u001b[0m\n\u001b[1;32m----> 1\u001b[0m result \u001b[38;5;241m=\u001b[39m sum_of_three_integers(num1, num2, num3)\n\u001b[0;32m      2\u001b[0m \u001b[38;5;28mprint\u001b[39m(\u001b[38;5;124m\"\u001b[39m\u001b[38;5;124mThe sum is:\u001b[39m\u001b[38;5;124m\"\u001b[39m, result)\n",
      "\u001b[1;31mNameError\u001b[0m: name 'num1' is not defined"
     ]
    }
   ],
   "source": []
  },
  {
   "cell_type": "code",
   "execution_count": 4,
   "id": "b0228d9a",
   "metadata": {},
   "outputs": [],
   "source": [
    "def sum_of_three_numbers(x, y, z):\n",
    "    result"
   ]
  },
  {
   "cell_type": "markdown",
   "id": "44498b23",
   "metadata": {},
   "source": [
    "### Write a Python program to test whether a passed letter is a vowel or not."
   ]
  },
  {
   "cell_type": "code",
   "execution_count": 7,
   "id": "5800a1e9",
   "metadata": {},
   "outputs": [
    {
     "name": "stdout",
     "output_type": "stream",
     "text": [
      "Enter a letter: e\n",
      "e is a vowel.\n"
     ]
    }
   ],
   "source": [
    "\n",
    "def is_vowel(letter):\n",
    "    vowels = \"AEIOUaeiou\"\n",
    "    return letter in vowels\n",
    "\n",
    "# Input a letter from the user\n",
    "letter = input(\"Enter a letter: \")\n",
    "\n",
    "if len(letter) == 1 and letter.isalpha():\n",
    "    if is_vowel(letter):\n",
    "        print(f\"{letter} is a vowel.\")\n",
    "    else:\n",
    "        print(f\"{letter} is not a vowel.\")\n",
    "else:\n",
    "    print(\"Please enter a single letter.\")"
   ]
  },
  {
   "cell_type": "markdown",
   "id": "999e1c55",
   "metadata": {},
   "source": [
    "Write python program that swap two number with temp variable and without temp variable."
   ]
  },
  {
   "cell_type": "code",
   "execution_count": 10,
   "id": "71b08ddf",
   "metadata": {},
   "outputs": [
    {
     "name": "stdout",
     "output_type": "stream",
     "text": [
      "Enter the first number: 3\n",
      "Enter the second number: 21\n",
      "After swapping (with temp variable):\n",
      "First number: 21.0\n",
      "Second number: 3.0\n",
      "Enter the first number: 4\n",
      "Enter the second number: 32\n",
      "After swapping (without temp variable):\n",
      "First number: 32.0\n",
      "Second number: 4.0\n"
     ]
    }
   ],
   "source": [
    "# Input two numbers from the user\n",
    "num1 = float(input(\"Enter the first number: \"))\n",
    "num2 = float(input(\"Enter the second number: \"))\n",
    "\n",
    "# Swap the numbers using a temporary variable\n",
    "temp = num1\n",
    "num1 = num2\n",
    "num2 = temp\n",
    "\n",
    "# Print the swapped numbers\n",
    "print(\"After swapping (with temp variable):\")\n",
    "print(\"First number:\", num1)\n",
    "print(\"Second number:\", num2)\n",
    "#Method 2: Without Using a Temporary Variable (Using Arithmetic)\n",
    "\n",
    "\n",
    "# Input two numbers from the user\n",
    "num1 = float(input(\"Enter the first number: \"))\n",
    "num2 = float(input(\"Enter the second number: \"))\n",
    "\n",
    "# Swap the numbers without a temporary variable using arithmetic operations\n",
    "num1 = num1 + num2\n",
    "num2 = num1 - num2\n",
    "num1 = num1 - num2\n",
    "\n",
    "# Print the swapped numbers\n",
    "print(\"After swapping (without temp variable):\")\n",
    "print(\"First number:\", num1)\n",
    "print(\"Second number:\", num2)\n",
    "#Both methods will swap the values of num1 and num2. The first method uses a temporary variable, and the second method swaps the numbers without using a temporary variable by performing arithmetic operations.\n",
    "\n",
    "\n",
    "\n",
    "\n"
   ]
  },
  {
   "cell_type": "markdown",
   "id": "d9805ba4",
   "metadata": {},
   "source": [
    "### Write a Python program to calculate the length of a string."
   ]
  },
  {
   "cell_type": "code",
   "execution_count": 11,
   "id": "df81befe",
   "metadata": {},
   "outputs": [
    {
     "name": "stdout",
     "output_type": "stream",
     "text": [
      "Enter a string: happy\n",
      "The length of the string is: 5\n"
     ]
    }
   ],
   "source": [
    "# Input a string from the user\n",
    "input_string = input(\"Enter a string: \")\n",
    "\n",
    "# Calculate and print the length of the string\n",
    "length = len(input_string)\n",
    "print(f\"The length of the string is: {length}\")"
   ]
  },
  {
   "cell_type": "markdown",
   "id": "99144e41",
   "metadata": {},
   "source": [
    "### Write a Python program to find whether a given number is even or odd,print out an appropriate message to the user."
   ]
  },
  {
   "cell_type": "code",
   "execution_count": 12,
   "id": "dbbf15d7",
   "metadata": {},
   "outputs": [
    {
     "name": "stdout",
     "output_type": "stream",
     "text": [
      "Enter a number: 8\n",
      "8 is even.\n"
     ]
    }
   ],
   "source": [
    "# Input a number from the user\n",
    "number = int(input(\"Enter a number: \"))\n",
    "\n",
    "# Check if the number is even or odd\n",
    "if number % 2 == 0:\n",
    "    print(f\"{number} is even.\")\n",
    "else:\n",
    "    print(f\"{number} is odd.\")"
   ]
  },
  {
   "cell_type": "markdown",
   "id": "0a560977",
   "metadata": {},
   "source": [
    "### write a programme to find biggest number of given three values."
   ]
  },
  {
   "cell_type": "code",
   "execution_count": 13,
   "id": "4f3fa091",
   "metadata": {},
   "outputs": [
    {
     "name": "stdout",
     "output_type": "stream",
     "text": [
      "Enter the first number: 64\n",
      "Enter the second number: 32\n",
      "Enter the third number: 11\n",
      "The biggest number among 64.0, 32.0, and 11.0 is 64.0.\n"
     ]
    }
   ],
   "source": [
    "# Input three numbers from the user\n",
    "num1 = float(input(\"Enter the first number: \"))\n",
    "num2 = float(input(\"Enter the second number: \"))\n",
    "num3 = float(input(\"Enter the third number: \"))\n",
    "\n",
    "# Find the maximum among the three numbers\n",
    "max_number = max(num1, num2, num3)\n",
    "\n",
    "# Print the result\n",
    "print(f\"The biggest number among {num1}, {num2}, and {num3} is {max_number}.\")"
   ]
  },
  {
   "cell_type": "markdown",
   "id": "5327a33b",
   "metadata": {},
   "source": [
    "### Write a Python program that will return true if the two given integer values are equal or their sum or difference is 5."
   ]
  },
  {
   "cell_type": "code",
   "execution_count": 14,
   "id": "1aa41bcc",
   "metadata": {},
   "outputs": [
    {
     "name": "stdout",
     "output_type": "stream",
     "text": [
      "Enter the first integer: 11\n",
      "Enter the second integer: 6\n",
      "True\n"
     ]
    }
   ],
   "source": [
    "def check_values(num1, num2):\n",
    "    if num1 == num2 or num1 + num2 == 5 or abs(num1 - num2) == 5:\n",
    "        return True\n",
    "    else:\n",
    "        return False\n",
    "\n",
    "# Input two integers from the user\n",
    "try:\n",
    "    num1 = int(input(\"Enter the first integer: \"))\n",
    "    num2 = int(input(\"Enter the second integer: \"))\n",
    "\n",
    "    result = check_values(num1, num2)\n",
    "\n",
    "    if result:\n",
    "        print(\"True\")\n",
    "    else:\n",
    "        print(\"False\")\n",
    "\n",
    "except ValueError:\n",
    "    print(\"Invalid input. Please enter integers only.\")"
   ]
  },
  {
   "cell_type": "markdown",
   "id": "b1075328",
   "metadata": {},
   "source": [
    "### Write a python program to sum of the first n positive integers."
   ]
  },
  {
   "cell_type": "code",
   "execution_count": 15,
   "id": "5d474698",
   "metadata": {},
   "outputs": [
    {
     "name": "stdout",
     "output_type": "stream",
     "text": [
      "Enter a positive integer 'n': 6\n",
      "The sum of the first 6 positive integers is: 21\n"
     ]
    }
   ],
   "source": [
    "# Input a positive integer 'n' from the user\n",
    "try:\n",
    "    n = int(input(\"Enter a positive integer 'n': \"))\n",
    "\n",
    "    if n <= 0:\n",
    "        print(\"Please enter a positive integer.\")\n",
    "    else:\n",
    "        # Calculate the sum of the first 'n' positive integers using a loop\n",
    "        total = 0\n",
    "        for i in range(1, n + 1):\n",
    "            total += i\n",
    "\n",
    "        print(f\"The sum of the first {n} positive integers is: {total}\")\n",
    "\n",
    "except ValueError:\n",
    "    print(\"Invalid input. Please enter a positive integer.\")"
   ]
  },
  {
   "cell_type": "markdown",
   "id": "e480000b",
   "metadata": {},
   "source": [
    "### Write a Python program to calculate the length of a string."
   ]
  },
  {
   "cell_type": "code",
   "execution_count": 16,
   "id": "e154e64e",
   "metadata": {},
   "outputs": [
    {
     "name": "stdout",
     "output_type": "stream",
     "text": [
      "Enter a string: waterball\n",
      "The length of the string is: 9\n"
     ]
    }
   ],
   "source": [
    "# Input a string from the user\n",
    "input_string = input(\"Enter a string: \")\n",
    "\n",
    "# Calculate and print the length of the string\n",
    "length = len(input_string)\n",
    "print(f\"The length of the string is: {length}\")"
   ]
  },
  {
   "cell_type": "markdown",
   "id": "83f1be28",
   "metadata": {},
   "source": [
    "### What is the purpose continue statement in python?"
   ]
  },
  {
   "cell_type": "code",
   "execution_count": null,
   "id": "abb0ca64",
   "metadata": {},
   "outputs": [],
   "source": [
    "In Python, the continue statement is used inside loops (such as for and while loops) to control the flow of the loop. The purpose of the continue statement is to skip the current iteration of the loop and move to the next iteration. When the continue statement is encountered, the remaining code within the current iteration is skipped, and the loop proceeds with the next iteration."
   ]
  },
  {
   "cell_type": "markdown",
   "id": "728d8b7a",
   "metadata": {},
   "source": [
    "### Write a Python program to add 'ing' at the end of a given string (length should be at least 3). If the given string already ends with 'ing' then add 'ly' instead if the string length of the given string is less than 3, leave it unchanged.\n"
   ]
  },
  {
   "cell_type": "code",
   "execution_count": 17,
   "id": "c90c977e",
   "metadata": {},
   "outputs": [
    {
     "name": "stdout",
     "output_type": "stream",
     "text": [
      "Enter a string: play\n",
      "Modified string: playing\n"
     ]
    }
   ],
   "source": [
    "# Input a string from the user\n",
    "input_string = input(\"Enter a string: \")\n",
    "\n",
    "# Check the length of the string\n",
    "if len(input_string) < 3:\n",
    "    result = input_string  # If the length is less than 3, leave it unchanged\n",
    "elif input_string.endswith(\"ing\"):\n",
    "    result = input_string + \"ly\"  # If it already ends with 'ing', add 'ly'\n",
    "else:\n",
    "    result = input_string + \"ing\"  # Otherwise, add 'ing'\n",
    "\n",
    "# Print the modified string\n",
    "print(\"Modified string:\", result)\n"
   ]
  },
  {
   "cell_type": "markdown",
   "id": "78208ba5",
   "metadata": {},
   "source": [
    "### Write a Python program to find the first appearance of the substring 'not' and 'poor' from a given string, if 'not' follows the 'poor', replace the whole 'not'...'poor' substring with 'good'. Return the resulting string"
   ]
  },
  {
   "cell_type": "code",
   "execution_count": 18,
   "id": "7d8711c7",
   "metadata": {},
   "outputs": [
    {
     "name": "stdout",
     "output_type": "stream",
     "text": [
      "Enter a string: raining is not poor\n",
      "Resulting string: raining is good\n"
     ]
    }
   ],
   "source": [
    "# Input a string from the user\n",
    "input_string = input(\"Enter a string: \")\n",
    "\n",
    "# Find the positions of 'not' and 'poor' in the string\n",
    "not_index = input_string.find('not')\n",
    "poor_index = input_string.find('poor')\n",
    "\n",
    "# Check if 'not' comes before 'poor' and both substrings are present\n",
    "if not_index != -1 and poor_index != -1 and not_index < poor_index:\n",
    "    # Replace the 'not'...'poor' substring with 'good'\n",
    "    result = input_string[:not_index] + 'good' + input_string[poor_index + 4:]\n",
    "else:\n",
    "    result = input_string  # Keep the original string\n",
    "\n",
    "# Print the resulting string\n",
    "print(\"Resulting string:\", result)"
   ]
  },
  {
   "cell_type": "markdown",
   "id": "7f264574",
   "metadata": {},
   "source": [
    "### Write a Python function to insert a string in the middle of a string."
   ]
  },
  {
   "cell_type": "code",
   "execution_count": 19,
   "id": "f4a4cffe",
   "metadata": {},
   "outputs": [
    {
     "name": "stdout",
     "output_type": "stream",
     "text": [
      "Original String: Hello, world!\n",
      "String to Insert: Python\n",
      "Resulting String: Hello,Python world!\n"
     ]
    }
   ],
   "source": [
    "def insert_string_in_middle(original_string, string_to_insert):\n",
    "    # Calculate the middle index of the original string\n",
    "    middle_index = len(original_string) // 2\n",
    "\n",
    "    # Insert the string into the middle\n",
    "    result = original_string[:middle_index] + string_to_insert + original_string[middle_index:]\n",
    "\n",
    "    return result\n",
    "\n",
    "# Test the function\n",
    "original_string = \"Hello, world!\"\n",
    "string_to_insert = \"Python\"\n",
    "result_string = insert_string_in_middle(original_string, string_to_insert)\n",
    "\n",
    "print(\"Original String:\", original_string)\n",
    "print(\"String to Insert:\", string_to_insert)\n",
    "print(\"Resulting String:\", result_string)"
   ]
  },
  {
   "cell_type": "markdown",
   "id": "5435ccd0",
   "metadata": {},
   "source": [
    "### reverses a string if its length is a multiple of 4."
   ]
  },
  {
   "cell_type": "code",
   "execution_count": 20,
   "id": "e3554c81",
   "metadata": {},
   "outputs": [
    {
     "name": "stdout",
     "output_type": "stream",
     "text": [
      "Enter a string: honeybel\n",
      "Original String: honeybel\n",
      "Resulting String: lebyenoh\n"
     ]
    }
   ],
   "source": [
    "def reverse_string_if_multiple_of_4(input_string):\n",
    "    # Check if the length of the string is a multiple of 4\n",
    "    if len(input_string) % 4 == 0:\n",
    "        # Reverse the string\n",
    "        return input_string[::-1]\n",
    "    else:\n",
    "        # Return the original string\n",
    "        return input_string\n",
    "\n",
    "# Test the function\n",
    "input_string = input(\"Enter a string: \")\n",
    "result_string = reverse_string_if_multiple_of_4(input_string)\n",
    "\n",
    "print(\"Original String:\", input_string)\n",
    "print(\"Resulting String:\", result_string)"
   ]
  },
  {
   "cell_type": "markdown",
   "id": "48d8671f",
   "metadata": {},
   "source": [
    "### Write a Python program to get a string made of the first 2 and the last 2 chars from a given a string. If the string length is less than 2, return instead of the empty string."
   ]
  },
  {
   "cell_type": "code",
   "execution_count": 21,
   "id": "b9907390",
   "metadata": {},
   "outputs": [
    {
     "name": "stdout",
     "output_type": "stream",
     "text": [
      "Enter a string: all is good\n",
      "Resulting String: alod\n"
     ]
    }
   ],
   "source": [
    "def get_first_and_last_2_chars(input_string):\n",
    "    if len(input_string) < 2:\n",
    "        return \"\"  # Return an empty string if the length is less than 2\n",
    "    else:\n",
    "        return input_string[:2] + input_string[-2:]\n",
    "\n",
    "# Input a string from the user\n",
    "input_string = input(\"Enter a string: \")\n",
    "\n",
    "result_string = get_first_and_last_2_chars(input_string)\n",
    "\n",
    "print(\"Resulting String:\", result_string)"
   ]
  },
  {
   "cell_type": "markdown",
   "id": "f0b39584",
   "metadata": {},
   "source": [
    "### Write a Python program to get a single string from two given strings, separated by a space and swap the first two characters of each string."
   ]
  },
  {
   "cell_type": "code",
   "execution_count": 23,
   "id": "e3e383d3",
   "metadata": {},
   "outputs": [
    {
     "name": "stdout",
     "output_type": "stream",
     "text": [
      "Enter the first string: all is good\n",
      "Enter the second string: nothing is good\n",
      "Resulting String: nol is good althing is good\n"
     ]
    }
   ],
   "source": [
    "# Input two strings from the user\n",
    "string1 = input(\"Enter the first string: \")\n",
    "string2 = input(\"Enter the second string: \")\n",
    "\n",
    "# Check if both strings have at least 2 characters\n",
    "if len(string1) >= 2 and len(string2) >= 2:\n",
    "    # Swap the first two characters of each string\n",
    "    new_string = string2[:2] + string1[2:] + \" \" + string1[:2] + string2[2:]\n",
    "    print(\"Resulting String:\", new_string)\n",
    "else:\n",
    "    print(\"Both strings should have at least 2 characters to perform the swap.\")\n"
   ]
  },
  {
   "cell_type": "markdown",
   "id": "323a62d0",
   "metadata": {},
   "source": [
    "Write a Python program to get the Fibonacci series of given range."
   ]
  },
  {
   "cell_type": "code",
   "execution_count": 24,
   "id": "057b2df5",
   "metadata": {},
   "outputs": [
    {
     "name": "stdout",
     "output_type": "stream",
     "text": [
      "Enter the range for the Fibonacci series: 6\n",
      "Fibonacci Series within the range: [0, 1, 1, 2, 3, 5]\n"
     ]
    }
   ],
   "source": [
    "def fibonacci_series(n):\n",
    "    fib_series = []\n",
    "    a, b = 0, 1\n",
    "\n",
    "    while a < n:\n",
    "        fib_series.append(a)\n",
    "        a, b = b, a + b\n",
    "\n",
    "    return fib_series\n",
    "\n",
    "# Input the range from the user\n",
    "try:\n",
    "    range_limit = int(input(\"Enter the range for the Fibonacci series: \"))\n",
    "\n",
    "    if range_limit < 0:\n",
    "        print(\"Please enter a non-negative range.\")\n",
    "    else:\n",
    "        result = fibonacci_series(range_limit)\n",
    "        print(\"Fibonacci Series within the range:\", result)\n",
    "\n",
    "except ValueError:\n",
    "    print(\"Invalid input. Please enter a non-negative integer for the range.\")\n"
   ]
  },
  {
   "cell_type": "markdown",
   "id": "d9013007",
   "metadata": {},
   "source": [
    "### Write a Python program to get the Factorial number of given number"
   ]
  },
  {
   "cell_type": "code",
   "execution_count": 25,
   "id": "da6371ef",
   "metadata": {},
   "outputs": [
    {
     "name": "stdout",
     "output_type": "stream",
     "text": [
      "Enter a non-negative integer: 88\n",
      "The factorial of 88 is 185482642257398439114796845645546284380220968949399346684421580986889562184028199319100141244804501828416633516851200000000000000000000\n"
     ]
    }
   ],
   "source": [
    "def factorial_recursive(n):\n",
    "    if n == 0:\n",
    "        return 1\n",
    "    else:\n",
    "        return n * factorial_recursive(n - 1)\n",
    "\n",
    "try:\n",
    "    num = int(input(\"Enter a non-negative integer: \"))\n",
    "\n",
    "    if num < 0:\n",
    "        print(\"Please enter a non-negative integer.\")\n",
    "    else:\n",
    "        result = factorial_recursive(num)\n",
    "        print(f\"The factorial of {num} is {result}\")\n",
    "\n",
    "except ValueError:\n",
    "    print(\"Invalid input. Please enter a non-negative integer.\")\n",
    "\n",
    "\n",
    "\n"
   ]
  },
  {
   "cell_type": "markdown",
   "id": "81819365",
   "metadata": {},
   "source": [
    "### Write a Python program to check if a number is positive, negative or zero"
   ]
  },
  {
   "cell_type": "code",
   "execution_count": 26,
   "id": "fc38fb6e",
   "metadata": {},
   "outputs": [
    {
     "name": "stdout",
     "output_type": "stream",
     "text": [
      "Enter a number: 9\n",
      "The number is positive.\n"
     ]
    }
   ],
   "source": [
    "try:\n",
    "    num = float(input(\"Enter a number: \"))\n",
    "\n",
    "    if num > 0:\n",
    "        print(\"The number is positive.\")\n",
    "    elif num < 0:\n",
    "        print(\"The number is negative.\")\n",
    "    else:\n",
    "        print(\"The number is zero.\")\n",
    "\n",
    "except ValueError:\n",
    "    print(\"Invalid input. Please enter a valid number.\")"
   ]
  },
  {
   "cell_type": "markdown",
   "id": "7defed1a",
   "metadata": {},
   "source": [
    "##  How memory is managed in Python?\n"
   ]
  },
  {
   "cell_type": "code",
   "execution_count": null,
   "id": "4093ff55",
   "metadata": {},
   "outputs": [],
   "source": [
    "Memory management in Python is carried out by Python's memory manager, which is responsible for allocating and deallocating memory as needed for the program's data and objects. Python uses a combination of techniques for efficient memory management:\n",
    "\n",
    "Reference Counting: Python uses a reference counting mechanism to keep track of how many references (pointers) exist to each object in memory. When an object's reference count drops to zero, it means there are no more references to that object, and it can be safely deallocated.\n",
    "\n",
    "Garbage Collection: While reference counting is efficient for most memory management tasks, it can't handle circular references (where objects reference each other in a loop). To handle such cases, Python employs a cyclic garbage collector. The garbage collector identifies and reclaims memory occupied by objects that are no longer accessible due to circular references.\n",
    "\n",
    "Dynamic Typing: Python is dynamically typed, meaning that the type of a variable is determined at runtime. This flexibility in typing allows Python to allocate memory efficiently based on the type and size of data being stored."
   ]
  },
  {
   "cell_type": "code",
   "execution_count": null,
   "id": "0b30663f",
   "metadata": {},
   "outputs": [],
   "source": []
  }
 ],
 "metadata": {
  "kernelspec": {
   "display_name": "Python 3 (ipykernel)",
   "language": "python",
   "name": "python3"
  },
  "language_info": {
   "codemirror_mode": {
    "name": "ipython",
    "version": 3
   },
   "file_extension": ".py",
   "mimetype": "text/x-python",
   "name": "python",
   "nbconvert_exporter": "python",
   "pygments_lexer": "ipython3",
   "version": "3.11.4"
  }
 },
 "nbformat": 4,
 "nbformat_minor": 5
}
